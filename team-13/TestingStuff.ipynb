{
 "cells": [
  {
   "cell_type": "code",
   "execution_count": 96,
   "metadata": {},
   "outputs": [],
   "source": [
    "import numpy as np\n",
    "import copy\n",
    "\n",
    "import neal\n",
    "\n",
    "# Problem modelling imports\n",
    "from docplex.mp.model import Model\n",
    "\n",
    "# Qiskit imports\n",
    "from qiskit import Aer\n",
    "from qiskit.algorithms import QAOA, NumPyMinimumEigensolver\n",
    "from qiskit.algorithms.optimizers import COBYLA\n",
    "from qiskit.primitives import Sampler\n",
    "from qiskit.utils.algorithm_globals import algorithm_globals\n",
    "from qiskit_optimization.algorithms import MinimumEigenOptimizer, CplexOptimizer\n",
    "from qiskit_optimization import QuadraticProgram\n",
    "from qiskit_optimization.problems.variable import VarType\n",
    "from qiskit_optimization.converters.quadratic_program_to_qubo import QuadraticProgramToQubo\n",
    "from qiskit_optimization.translators import from_docplex_mp \n",
    "\n",
    "import rustworkx\n",
    "import matplotlib.pyplot as plt\n",
    "from rustworkx.visualization import mpl_draw"
   ]
  },
  {
   "cell_type": "code",
   "execution_count": 97,
   "metadata": {},
   "outputs": [
    {
     "name": "stdout",
     "output_type": "stream",
     "text": [
      "{'name': 'a', 'c': 1.6}\n",
      "{'name': 'b', 'c': 3.2}\n",
      "{'name': 'c', 'c': 0.6}\n",
      "{'name': 'd', 'c': 3.8}\n",
      "{'name': 'd', 'c': 2.8}\n"
     ]
    },
    {
     "data": {
      "image/png": "[encoded data removed]",
      "text/plain": [
       "<Figure size 640x480 with 1 Axes>"
      ]
     },
     "metadata": {},
     "output_type": "display_data"
    }
   ],
   "source": [
    "import rustworkx\n",
    "import matplotlib.pyplot as plt\n",
    "from rustworkx.visualization import mpl_draw\n",
    "\n",
    "graph = rustworkx.PyGraph()\n",
    "\n",
    "C = 2\n",
    "D = 2\n",
    "\n",
    "nodeDictionary = {\n",
    "    (\"a\"):{\"name\":\"a\",\"f\":0.8,\"g\":0},\n",
    "    (\"b\"):{\"name\":\"b\",\"f\":0.6,\"g\":1},\n",
    "    (\"c\"):{\"name\":\"c\",\"f\":0.3,\"g\":0},\n",
    "    (\"d\"):{\"name\":\"d\",\"f\":0.9,\"g\":1},\n",
    "    (\"e\"):{\"name\":\"d\",\"f\":0.4,\"g\":1}\n",
    "}\n",
    "\n",
    "new_node_dict = {node: {\"name\": attrs[\"name\"], \"c\": C*attrs[\"f\"] + D*attrs[\"g\"]} \n",
    "                 for node, attrs in nodeDictionary.items()}\n",
    "nodeDictionary = new_node_dict\n",
    "\n",
    "edgeDictionary = {\n",
    "    (\"a\",\"b\"):{\"cost\":4},\n",
    "    (\"a\",\"e\"):{\"cost\":3},\n",
    "    (\"b\",\"e\"):{\"cost\":9},\n",
    "    (\"b\",\"c\"):{\"cost\":8},\n",
    "    (\"c\",\"e\"):{\"cost\":2},\n",
    "    (\"c\",\"d\"):{\"cost\":6},\n",
    "    (\"d\",\"e\"):{\"cost\":1}\n",
    "}\n",
    "\n",
    "indexDictionary = {\n",
    "    \"a\":0,\n",
    "    \"b\":1,\n",
    "    \"c\":2,\n",
    "    \"d\":3,\n",
    "    \"e\":4\n",
    "}\n",
    "\n",
    "for node in nodeDictionary.items():\n",
    "  graph.add_node(node[1])\n",
    "\n",
    "for edge in edgeDictionary.items():\n",
    "  graph.add_edge( indexDictionary[edge[0][0]] , indexDictionary[edge[0][1]] , edge[1][\"cost\"])\n",
    "  \n",
    "nodeIndices = graph.node_indices()\n",
    "for i in range(len(nodeIndices)):\n",
    "  print(graph[i])\n",
    "\n",
    "subax1 = plt.subplot(121)\n",
    "mpl_draw(graph, with_labels=True, ax=subax1)"
   ]
  },
  {
   "cell_type": "code",
   "execution_count": 98,
   "metadata": {},
   "outputs": [],
   "source": [
    "####################################################################\n",
    "#Formulating and solving a Hamiltonian from a given rustworkx graph#\n",
    "####################################################################\n",
    "\n",
    "from pyqubo import Binary\n",
    "from pyqubo import Array\n",
    "from pprint import pprint\n",
    "import neal\n",
    "\n",
    "#create an array of binary variables in our Hamiltonian. \n",
    "#x[i] = 1 if a sensor is placed at that node, 0 otherwise\n",
    "\n",
    "x = Array.create('x', shape=(nodes), vartype='BINARY')\n",
    "\n",
    "#####calculate H_1#####\n",
    "H_1 = 0\n",
    "weight_max = None \n",
    "\n",
    "for edge in graph.edge_list():\n",
    "  weight = graph.get_edge_data(*edge)\n",
    "\n",
    "  if weight_max is None or weight > weight_max:\n",
    "    weight_max = weight\n",
    "\n",
    "  H_1 += (1-x[edge[0]])*(1-x[edge[1]])*weight\n",
    "\n",
    "H_1 *= 1/weight_max\n",
    "\n",
    "#####calculate H_2#####\n",
    "H_2 = 0\n",
    "\n",
    "for i in range(len(nodeIndices)):\n",
    "  cost = graph[i][\"c\"]\n",
    "  H_2 += x[i]*cost\n",
    "\n",
    "#####calculate H_3#####\n",
    "\n",
    "#number of sensors we want\n",
    "sensors = 2\n",
    "H_3 = (sum(x)-sensors)**2\n",
    "\n",
    "#####Get Hamiltonian function#####\n",
    "A,B,C = 100,100,100 #random coef for now\n",
    "H = A*H_1 + B*H_2 + C*H_3\n",
    "\n",
    "#Compile the Hamiltonian to get a model\n",
    "model = H.compile()\n",
    "\n",
    "#get and print QUBO coefficients\n",
    "qubo, offset = model.to_qubo()\n",
    "#print(\"Printing QUBO coefficients:\")\n",
    "#pprint(qubo)"
   ]
  },
  {
   "cell_type": "code",
   "execution_count": 99,
   "metadata": {},
   "outputs": [
    {
     "name": "stdout",
     "output_type": "stream",
     "text": [
      "Printing the best sample:\n",
      "{'x[0]': 1, 'x[1]': 0, 'x[2]': 1, 'x[3]': 0, 'x[4]': 0}\n"
     ]
    }
   ],
   "source": [
    "#D-Wave Simulator\n",
    "#Solve BinaryQuadraticModel(BQM) by using Sampler class\n",
    "bqm = model.to_bqm()\n",
    "\n",
    "#get the solutions of QUBO as SampleSet\n",
    "sa = neal.SimulatedAnnealingSampler()\n",
    "sampleset = sa.sample(bqm, num_reads=10)\n",
    "\n",
    "#interpret the sampleset object\n",
    "decoded_samples = model.decode_sampleset(sampleset)\n",
    "#print the decoded_samples\n",
    "#print(\"\")\n",
    "#print(\"Printing the decoded sample:\")\n",
    "#pprint(decoded_samples)\n",
    "\n",
    "best_sample = min(decoded_samples, key=lambda x: x.energy)\n",
    "\n",
    "#print the best sample\n",
    "print(\"Printing the best sample:\")\n",
    "pprint(best_sample.sample)\n"
   ]
  },
  {
   "cell_type": "code",
   "execution_count": 89,
   "metadata": {},
   "outputs": [
    {
     "name": "stdout",
     "output_type": "stream",
     "text": [
      "{('x[0]', 'x[0]'): -217.77777777777777, ('x[4]', 'x[1]'): 300.0, ('x[2]', 'x[1]'): 288.8888888888889, ('x[1]', 'x[0]'): 244.44444444444446, ('x[4]', 'x[2]'): 222.22222222222223, ('x[3]', 'x[1]'): 200.0, ('x[4]', 'x[3]'): 211.11111111111111, ('x[3]', 'x[3]'): 2.2222222222222285, ('x[2]', 'x[2]'): -417.77777777777777, ('x[3]', 'x[2]'): 266.66666666666663, ('x[1]', 'x[1]'): -213.33333333333326, ('x[3]', 'x[0]'): 200.0, ('x[2]', 'x[0]'): 200.0, ('x[4]', 'x[4]'): -186.66666666666663, ('x[4]', 'x[0]'): 233.33333333333331}\n",
      "[-217.77777777777777, 244.44444444444446, 200.0, 200.0, 233.33333333333331, -213.33333333333326, 288.8888888888889, 200.0, 300.0, -417.77777777777777, 266.66666666666663, 222.22222222222223, 2.2222222222222285, 211.11111111111111, -186.66666666666663]\n"
     ]
    }
   ],
   "source": [
    "print(qubo)\n",
    "import math\n",
    "i = 0\n",
    "j = 0\n",
    "n = len(qubo)\n",
    "\n",
    "nodes = 5\n",
    "\n",
    "qubo_ordered = []\n",
    "used = []\n",
    "for i in range(nodes):\n",
    "  for j in range(nodes):\n",
    "    check1 = 'x['+str(i)+']'\n",
    "    check2 = 'x['+str(j)+']'\n",
    "    if (check1, check2) in qubo and (check1, check2) not in used:\n",
    "      qubo_ordered.append(qubo[(check1, check2)])\n",
    "      #list.append((check1, check2))\n",
    "      used.append((check1, check2))\n",
    "\n",
    "    elif (check2,check1) in qubo and (check2,check1) not in used:\n",
    "      #list.append((check2,check1))\n",
    "      used.append((check2, check1))\n",
    "      qubo_ordered.append(qubo[(check2,check1)])      \n",
    "print(qubo_ordered)"
   ]
  },
  {
   "cell_type": "code",
   "execution_count": 90,
   "metadata": {},
   "outputs": [],
   "source": [
    "weights = qubo_ordered\n"
   ]
  },
  {
   "cell_type": "code",
   "execution_count": 91,
   "metadata": {},
   "outputs": [
    {
     "name": "stdout",
     "output_type": "stream",
     "text": [
      "Problem name: docplex_model26\n",
      "\n",
      "Minimize\n",
      "  -217.77777777777777*x0^2 + 244.44444444444446*x0*x1 + 200*x0*x2 + 200*x0*x3\n",
      "  + 233.33333333333331*x0*x4 - 213.33333333333326*x1^2 + 288.8888888888889*x1*x2\n",
      "  + 200*x1*x3 + 300*x1*x4 - 417.77777777777777*x2^2 + 266.66666666666663*x2*x3\n",
      "  + 222.22222222222223*x2*x4 + 2.2222222222222285*x3^2\n",
      "  + 211.11111111111111*x3*x4 - 186.66666666666663*x4^2\n",
      "\n",
      "Subject to\n",
      "  No constraints\n",
      "\n",
      "  Binary variables (5)\n",
      "    x0 x1 x2 x3 x4\n",
      "\n"
     ]
    }
   ],
   "source": [
    "def create_problem(weights:np.array, nodes) -> QuadraticProgram:\n",
    "    total: int = 3\n",
    "    iterations = int(nodes*0.5*nodes)\n",
    "    result = []\n",
    "    mdl = Model()\n",
    "    dummy = 0\n",
    "    x = [mdl.binary_var(\"x%s\" % i) for i in range(nodes)]\n",
    "    used = []\n",
    "    for i in range(nodes):\n",
    "        for j in range(nodes):\n",
    "            if (i,j) not in used and (j,i) not in used:\n",
    "                result.append(x[i]*x[j])\n",
    "                used.append((i,j))\n",
    "    new_result = []\n",
    "    for i in range(len(result)):\n",
    "        new_result.append(weights[i]*result[i])\n",
    "\n",
    "    objective = mdl.sum(new_result)\n",
    "    mdl.minimize(objective)\n",
    "    cost = (mdl.sum(x))\n",
    "    #mdl.add_constraint(cost == total)\n",
    "\n",
    "    qp = from_docplex_mp(mdl)\n",
    "    return qp\n",
    "\n",
    "weights = qubo_ordered\n",
    "weights2 = [1, -2, -3, 4, 5, -6]\n",
    "\n",
    "qubo = create_problem(weights, nodes)\n",
    "print(qubo.prettyprint())\n"
   ]
  },
  {
   "cell_type": "code",
   "execution_count": 92,
   "metadata": {},
   "outputs": [
    {
     "name": "stdout",
     "output_type": "stream",
     "text": [
      "objective function value: -435.55555555555554\n",
      "variable values: x0=1.0, x1=0.0, x2=1.0, x3=0.0, x4=0.0\n",
      "status: SUCCESS\n"
     ]
    }
   ],
   "source": [
    "result = CplexOptimizer().solve(qubo)\n",
    "print(result.prettyprint())"
   ]
  },
  {
   "cell_type": "code",
   "execution_count": 93,
   "metadata": {},
   "outputs": [
    {
     "name": "stdout",
     "output_type": "stream",
     "text": [
      "fval=-435.55555555555554, x0=1.0, x1=0.0, x2=1.0, x3=0.0, x4=0.0, status=SUCCESS\n"
     ]
    }
   ],
   "source": [
    "algorithm_globals.random_seed = 12345\n",
    "\n",
    "sampler = Aer.get_backend('aer_simulator')\n",
    "\n",
    "qaoa_mes = QAOA(optimizer=COBYLA(), initial_point=[0.0, 1.0], quantum_instance=sampler)\n",
    "exact_mes = NumPyMinimumEigensolver()\n",
    "\n",
    "qaoa = MinimumEigenOptimizer(qaoa_mes)\n",
    "\n",
    "qaoa_result = qaoa.solve(qubo)\n",
    "\n",
    "print(qaoa_result)"
   ]
  },
  {
   "cell_type": "code",
   "execution_count": null,
   "metadata": {},
   "outputs": [],
   "source": []
  }
 ],
 "metadata": {
  "kernelspec": {
   "display_name": "base",
   "language": "python",
   "name": "python3"
  },
  "language_info": {
   "codemirror_mode": {
    "name": "ipython",
    "version": 3
   },
   "file_extension": ".py",
   "mimetype": "text/x-python",
   "name": "python",
   "nbconvert_exporter": "python",
   "pygments_lexer": "ipython3",
   "version": "3.9.13"
  },
  "orig_nbformat": 4
 },
 "nbformat": 4,
 "nbformat_minor": 2
}
